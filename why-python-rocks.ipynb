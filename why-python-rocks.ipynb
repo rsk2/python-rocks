{
 "cells": [
  {
   "cell_type": "raw",
   "metadata": {},
   "source": [
    "Why python rocks syntactically! (written by a developer with an object oriented background coming from the Microsoft.NET world)"
   ]
  },
  {
   "cell_type": "raw",
   "metadata": {},
   "source": [
    "1. No need for braces\n",
    "Example: Below code goes through the list of cities and prints index and city name"
   ]
  },
  {
   "cell_type": "code",
   "execution_count": 2,
   "metadata": {},
   "outputs": [
    {
     "name": "stdout",
     "output_type": "stream",
     "text": [
      "0\n",
      "2\n",
      "4\n",
      "6\n",
      "8\n",
      "10\n",
      "12\n",
      "14\n",
      "16\n",
      "18\n"
     ]
    }
   ],
   "source": [
    "cities = ['Mumbai', 'Dallas', 'Bangalore', 'Amsterdam', 'Bangkok']\n",
    "for i,city in enumerate(cities):\n",
    "    print(i,city)"
   ]
  },
  {
   "cell_type": "raw",
   "metadata": {},
   "source": [
    "2. No need to specify types in function definitions. That's just pythonic! Also dynamic type checking"
   ]
  },
  {
   "cell_type": "code",
   "execution_count": 4,
   "metadata": {},
   "outputs": [
    {
     "name": "stdout",
     "output_type": "stream",
     "text": [
      "4\n",
      "Hello World!\n",
      "6.300000000000001\n"
     ]
    }
   ],
   "source": [
    "def sum(a,b):\n",
    "    return a+b\n",
    "print(sum(1,3))\n",
    "print(sum('Hello ','World!'))\n",
    "print(sum(4.2,2.1))"
   ]
  },
  {
   "cell_type": "raw",
   "metadata": {},
   "source": [
    "3. Return multiple variables from a function in style\n",
    "For e.g., Below we return two values using a comma between them. Note that this create a tuple"
   ]
  },
  {
   "cell_type": "code",
   "execution_count": 6,
   "metadata": {},
   "outputs": [
    {
     "name": "stdout",
     "output_type": "stream",
     "text": [
      "(4, -2)\n",
      "(6.300000000000001, 2.1)\n"
     ]
    }
   ],
   "source": [
    "def sum_and_diff(a,b):\n",
    "    return a+b, a-b\n",
    "print(sum_and_diff(1,3))\n",
    "print(sum_and_diff(4.2,2.1))"
   ]
  },
  {
   "cell_type": "raw",
   "metadata": {},
   "source": [
    "4. Semicolons are not required to terminate statements. Semi colons can be used to delimit statements if you wish to put multiple statements on the same line.\n",
    "For e.g., below code is self explanatory"
   ]
  },
  {
   "cell_type": "code",
   "execution_count": 8,
   "metadata": {},
   "outputs": [
    {
     "name": "stdout",
     "output_type": "stream",
     "text": [
      "a: 5\n",
      "b: 6\n",
      "a+b: 11\n"
     ]
    }
   ],
   "source": [
    "a=5; b=6\n",
    "print(\"a:\",a)\n",
    "print(\"b:\",b); print(\"a+b:\",a+b)"
   ]
  },
  {
   "cell_type": "raw",
   "metadata": {},
   "source": [
    "5. Shorthand! There are several examples of writing one line of code which would take 2-3 lines in other languages\n",
    "For e.g., swapping two variables. More tuple magic"
   ]
  },
  {
   "cell_type": "code",
   "execution_count": 11,
   "metadata": {},
   "outputs": [
    {
     "name": "stdout",
     "output_type": "stream",
     "text": [
      "Before swap x =  10  and y =  -10\n",
      "After swap x =  -10  and y =  10\n"
     ]
    }
   ],
   "source": [
    "x = 10\n",
    "y = -10\n",
    "print(\"Before swap x = \",x,\" and y = \",y)\n",
    "x,y = y,x\n",
    "print(\"After swap x = \",x,\" and y = \",y)"
   ]
  },
  {
   "cell_type": "raw",
   "metadata": {},
   "source": [
    "6. Are you sure if the key is present in the dictionary?\n",
    "For e.g., instead of doing an if statement to check if the key is present we can directly use the get() routine of dictionary"
   ]
  },
  {
   "cell_type": "code",
   "execution_count": null,
   "metadata": {},
   "outputs": [],
   "source": [
    "ages = {\n",
    "            \"James\":20,\n",
    "            \"John\":10,\n",
    "            \"Vijay\":22\n",
    "}\n",
    "ron_age = ages.get('Ron','Unknown')\n",
    "print(\"Ron's age is \",ron_age)"
   ]
  },
  {
   "cell_type": "raw",
   "metadata": {},
   "source": [
    "7. List slicing: so easy to get a subset of a list"
   ]
  },
  {
   "cell_type": "code",
   "execution_count": 16,
   "metadata": {},
   "outputs": [
    {
     "name": "stdout",
     "output_type": "stream",
     "text": [
      "[16, 25]\n",
      "[9, 16, 25]\n",
      "[0, 1, 4]\n",
      "[0, 1, 4, 9, 16]\n",
      "[0, 4, 16]\n",
      "[25, 16, 9, 4, 1, 0]\n"
     ]
    }
   ],
   "source": [
    "sqs = [0,1,4,9,16,25]\n",
    "print(sqs[4:7]) \n",
    "print(sqs[3:])\n",
    "print(sqs[:3])\n",
    "print(sqs[:-1]) \n",
    "print(sqs[::2])\n",
    "print(sqs[::-1])"
   ]
  },
  {
   "cell_type": "raw",
   "metadata": {},
   "source": [
    "8. List comprehensions: cool way to create lists\n",
    "For e.g., below is the syntax to create list comprehensions. The third example shows how to create a list from an existing list"
   ]
  },
  {
   "cell_type": "code",
   "execution_count": 21,
   "metadata": {},
   "outputs": [
    {
     "name": "stdout",
     "output_type": "stream",
     "text": [
      "[0, 1, 2, 3, 4, 5, 6, 7, 8, 9]\n",
      "[0, 1, 4, 9, 16, 25, 36, 49, 64, 81]\n",
      "[0, 4, 16, 36, 64]\n"
     ]
    }
   ],
   "source": [
    "samples = [i for i in range(0,10)]\n",
    "print(samples)\n",
    "squares = [i**2 for i in range(0,10)]\n",
    "print(squares)\n",
    "even_squares = [elem for elem in squares if elem%2==0] \n",
    "print(even_squares)"
   ]
  },
  {
   "cell_type": "raw",
   "metadata": {},
   "source": [
    "9. The type and dir. type() can be used to determine the type of an object. dir() can be used to introspect an object and get it's attributes."
   ]
  },
  {
   "cell_type": "code",
   "execution_count": 8,
   "metadata": {},
   "outputs": [
    {
     "name": "stdout",
     "output_type": "stream",
     "text": [
      "<class 'module'>\n",
      "['HTTPConnectionPool', 'HTTPResponse', 'HTTPSConnectionPool', 'PoolManager', 'ProxyManager', 'Retry', 'Timeout', '__all__', '__author__', '__builtins__', '__cached__', '__doc__', '__file__', '__license__', '__loader__', '__name__', '__package__', '__path__', '__spec__', '__version__', '_collections', 'absolute_import', 'add_stderr_logger', 'connection', 'connection_from_url', 'connectionpool', 'disable_warnings', 'encode_multipart_formdata', 'exceptions', 'fields', 'filepost', 'get_host', 'logging', 'make_headers', 'packages', 'poolmanager', 'proxy_from_url', 'request', 'response', 'util', 'warnings']\n",
      "['RequestMethods', '__all__', '__builtins__', '__cached__', '__doc__', '__file__', '__loader__', '__name__', '__package__', '__spec__', 'absolute_import', 'encode_multipart_formdata', 'urlencode']\n",
      "urllib3.request\n",
      "None\n"
     ]
    }
   ],
   "source": [
    "import urllib3\n",
    "print(type(urllib3))\n",
    "print(dir(urllib3))\n",
    "print(dir(urllib3.request))\n",
    "print(urllib3.request.__name__)\n",
    "print(urllib3.response.__doc__)"
   ]
  },
  {
   "cell_type": "raw",
   "metadata": {},
   "source": [
    "10. Everything is an object. Variables are named references to objects\n",
    "For e.g., id() returns a unique identifier for an object. \n",
    "Please also refer: https://stackoverflow.com/questions/306313/is-operator-behaves-unexpectedly-with-integers"
   ]
  },
  {
   "cell_type": "code",
   "execution_count": 9,
   "metadata": {},
   "outputs": [
    {
     "name": "stdout",
     "output_type": "stream",
     "text": [
      "1529842720\n",
      "534299714992\n",
      "534299714960\n",
      "is operator checks if two variables refer to same object or not\n",
      "a is b False\n",
      "== operator checks for value equivalency\n",
      "a == b True\n"
     ]
    }
   ],
   "source": [
    "a = 256\n",
    "b = 256\n",
    "print(id(a))\n",
    "id(b)\n",
    "a = 257\n",
    "b = 257\n",
    "print(id(a))\n",
    "print(id(b))\n",
    "print('is operator checks if two variables refer to same object or not')\n",
    "print('a is b',a is b)\n",
    "print('== operator checks for value equivalency')\n",
    "print('a == b',a == b)"
   ]
  },
  {
   "cell_type": "code",
   "execution_count": null,
   "metadata": {},
   "outputs": [],
   "source": []
  }
 ],
 "metadata": {
  "kernelspec": {
   "display_name": "Python 3",
   "language": "python",
   "name": "python3"
  },
  "language_info": {
   "codemirror_mode": {
    "name": "ipython",
    "version": 3
   },
   "file_extension": ".py",
   "mimetype": "text/x-python",
   "name": "python",
   "nbconvert_exporter": "python",
   "pygments_lexer": "ipython3",
   "version": "3.6.5"
  }
 },
 "nbformat": 4,
 "nbformat_minor": 2
}
